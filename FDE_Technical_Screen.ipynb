{
  "metadata": {
    "kernelspec": {
      "name": "python",
      "display_name": "Python (Pyodide)",
      "language": "python"
    },
    "language_info": {
      "codemirror_mode": {
        "name": "python",
        "version": 3
      },
      "file_extension": ".py",
      "mimetype": "text/x-python",
      "name": "python",
      "nbconvert_exporter": "python",
      "pygments_lexer": "ipython3",
      "version": "3.8"
    }
  },
  "nbformat_minor": 4,
  "nbformat": 4,
  "cells": [
    {
      "cell_type": "code",
      "source": "def sort(width, height, length, mass):\n  volume = width * height * length\n  is_bulky = volume >= 1_000_000 or width >= 150 or height >= 150 or length >= 150\n  is_heavy = mass >= 20\n  if is_bulky and is_heavy:\n    return \"REJECTED\"\n  elif is_bulky or is_heavy:\n    return \"SPECIAL\"\n  else:\n    return \"ACCEPTED\"\n\nprint(sort(200, 150, 100, 30))\nprint(sort(50, 50, 50, 10)) \nprint(sort(200, 100, 50, 10))\nprint(sort(50, 50, 50, 25)) ",
      "metadata": {
        "trusted": true
      },
      "outputs": [
        {
          "name": "stdout",
          "text": "REJECTED\nACCEPTED\nSPECIAL\nSPECIAL\n",
          "output_type": "stream"
        }
      ],
      "execution_count": 1
    }
  ]
}